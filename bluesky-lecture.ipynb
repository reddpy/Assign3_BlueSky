{
 "cells": [
  {
   "cell_type": "markdown",
   "metadata": {},
   "source": [
    "# Practice with the Python ATProtoSDK\n",
    "This ipython notebook will walk you through the basics of working with the\n",
    "ATProto python sdk. The content here heavily draws on [these examples](https://github.com/MarshalX/atproto/tree/main/examples)"
   ]
  },
  {
   "cell_type": "code",
   "execution_count": null,
   "metadata": {},
   "outputs": [],
   "source": [
    "from atproto import Client\n",
    "from dotenv import load_dotenv\n",
    "import os\n",
    "import pprint\n",
    "\n",
    "\n",
    "load_dotenv(override=True)\n",
    "USERNAME = os.getenv(\"kmh333.bsky.social\")\n",
    "PW = os.getenv(\"BlueSky\")"
   ]
  },
  {
   "cell_type": "markdown",
   "metadata": {},
   "source": [
    "## Logging into your account"
   ]
  },
  {
   "cell_type": "code",
   "execution_count": 25,
   "metadata": {},
   "outputs": [
    {
     "ename": "ValueError",
     "evalue": "Either session_string or login and password should be provided.",
     "output_type": "error",
     "traceback": [
      "\u001b[0;31m---------------------------------------------------------------------------\u001b[0m",
      "\u001b[0;31mValueError\u001b[0m                                Traceback (most recent call last)",
      "Cell \u001b[0;32mIn[25], line 2\u001b[0m\n\u001b[1;32m      1\u001b[0m client \u001b[38;5;241m=\u001b[39m Client()\n\u001b[0;32m----> 2\u001b[0m profile \u001b[38;5;241m=\u001b[39m \u001b[43mclient\u001b[49m\u001b[38;5;241;43m.\u001b[39;49m\u001b[43mlogin\u001b[49m\u001b[43m(\u001b[49m\u001b[43mUSERNAME\u001b[49m\u001b[43m,\u001b[49m\u001b[43m \u001b[49m\u001b[43mPW\u001b[49m\u001b[43m)\u001b[49m\n\u001b[1;32m      3\u001b[0m pprint\u001b[38;5;241m.\u001b[39mpprint(profile\u001b[38;5;241m.\u001b[39m\u001b[38;5;18m__dict__\u001b[39m)\n",
      "File \u001b[0;32m~/Projects/cs5342-spring2025/venv/lib/python3.9/site-packages/atproto_client/client/client.py:104\u001b[0m, in \u001b[0;36mClient.login\u001b[0;34m(self, login, password, session_string, auth_factor_token)\u001b[0m\n\u001b[1;32m    102\u001b[0m     session \u001b[38;5;241m=\u001b[39m \u001b[38;5;28mself\u001b[39m\u001b[38;5;241m.\u001b[39m_get_and_set_session(login, password, auth_factor_token)\n\u001b[1;32m    103\u001b[0m \u001b[38;5;28;01melse\u001b[39;00m:\n\u001b[0;32m--> 104\u001b[0m     \u001b[38;5;28;01mraise\u001b[39;00m \u001b[38;5;167;01mValueError\u001b[39;00m(\u001b[38;5;124m'\u001b[39m\u001b[38;5;124mEither session_string or login and password should be provided.\u001b[39m\u001b[38;5;124m'\u001b[39m)\n\u001b[1;32m    106\u001b[0m \u001b[38;5;28mself\u001b[39m\u001b[38;5;241m.\u001b[39mme \u001b[38;5;241m=\u001b[39m \u001b[38;5;28mself\u001b[39m\u001b[38;5;241m.\u001b[39mapp\u001b[38;5;241m.\u001b[39mbsky\u001b[38;5;241m.\u001b[39mactor\u001b[38;5;241m.\u001b[39mget_profile(models\u001b[38;5;241m.\u001b[39mAppBskyActorGetProfile\u001b[38;5;241m.\u001b[39mParams(actor\u001b[38;5;241m=\u001b[39msession\u001b[38;5;241m.\u001b[39mhandle))\n\u001b[1;32m    107\u001b[0m \u001b[38;5;28;01mreturn\u001b[39;00m \u001b[38;5;28mself\u001b[39m\u001b[38;5;241m.\u001b[39mme\n",
      "\u001b[0;31mValueError\u001b[0m: Either session_string or login and password should be provided."
     ]
    }
   ],
   "source": [
    "client = Client()\n",
    "profile = client.login(USERNAME, PW)\n",
    "pprint.pprint(profile.__dict__)"
   ]
  },
  {
   "cell_type": "markdown",
   "metadata": {},
   "source": [
    "## Working with posts"
   ]
  },
  {
   "cell_type": "code",
   "execution_count": 1,
   "metadata": {},
   "outputs": [
    {
     "ename": "NameError",
     "evalue": "name 'Client' is not defined",
     "output_type": "error",
     "traceback": [
      "\u001b[0;31m---------------------------------------------------------------------------\u001b[0m",
      "\u001b[0;31mNameError\u001b[0m                                 Traceback (most recent call last)",
      "Cell \u001b[0;32mIn[1], line 1\u001b[0m\n\u001b[0;32m----> 1\u001b[0m \u001b[38;5;28;01mdef\u001b[39;00m\u001b[38;5;250m \u001b[39m\u001b[38;5;21mpost_from_url\u001b[39m(client: \u001b[43mClient\u001b[49m, url: \u001b[38;5;28mstr\u001b[39m):\n\u001b[1;32m      2\u001b[0m \u001b[38;5;250m    \u001b[39m\u001b[38;5;124;03m\"\"\"\u001b[39;00m\n\u001b[1;32m      3\u001b[0m \u001b[38;5;124;03m    Retrieve a Bluesky post from its URL\u001b[39;00m\n\u001b[1;32m      4\u001b[0m \u001b[38;5;124;03m    \"\"\"\u001b[39;00m\n\u001b[1;32m      5\u001b[0m     parts \u001b[38;5;241m=\u001b[39m url\u001b[38;5;241m.\u001b[39msplit(\u001b[38;5;124m\"\u001b[39m\u001b[38;5;124m/\u001b[39m\u001b[38;5;124m\"\u001b[39m)\n",
      "\u001b[0;31mNameError\u001b[0m: name 'Client' is not defined"
     ]
    }
   ],
   "source": [
    "def post_from_url(client: Client, url: str):\n",
    "    \"\"\"\n",
    "    Retrieve a Bluesky post from its URL\n",
    "    \"\"\"\n",
    "    parts = url.split(\"/\")\n",
    "    rkey = parts[-1]\n",
    "    handle = parts[-3]\n",
    "    return client.get_post(rkey, handle)\n",
    "\n",
    "post = post_from_url(client, \"https://bsky.app/profile/labeler-test.bsky.social/post/3lktj7ewxxv2q\")\n",
    "pprint.pprint(post.value.__dict__)"
   ]
  },
  {
   "cell_type": "code",
   "execution_count": null,
   "metadata": {},
   "outputs": [],
   "source": [
    "# https://github.com/MarshalX/atproto/blob/main/examples/profile_posts.py\n",
    "prof_feed = client.get_author_feed(actor=\"weratedogs.com\")\n",
    "for i, feed_view in enumerate(prof_feed.feed[:10]):\n",
    "    print(f\"Post {i}:\", feed_view.post.record.text)\n",
    "\n",
    "post = prof_feed.feed[0].post\n",
    "likes_resp = client.get_likes(post.uri, post.cid, limit=10)\n",
    "print(\"Likes:\", [like.actor.handle for like in likes_resp.likes])\n",
    "\n",
    "post_thread_resp = client.get_post_thread(post.uri)\n",
    "print([rep.post.record.text for rep in post_thread_resp.thread.replies[:10]])"
   ]
  },
  {
   "cell_type": "markdown",
   "metadata": {},
   "source": [
    "## Followers/following"
   ]
  },
  {
   "cell_type": "markdown",
   "metadata": {},
   "source": [
    "How might you use this information to investigate/mitigate a harm?"
   ]
  },
  {
   "cell_type": "code",
   "execution_count": null,
   "metadata": {},
   "outputs": [],
   "source": [
    "\n",
    "follower_resp = client.get_followers(\"weratedogs.com\", limit=10)\n",
    "following_resp = client.get_follows(\"weratedogs.com\", limit=10)\n",
    "print(\"Followers:\", [follower.handle for follower in follower_resp.followers])\n",
    "print(\"Following:\", [follow.handle for follow in following_resp.follows])\n",
    "\n"
   ]
  },
  {
   "cell_type": "markdown",
   "metadata": {},
   "source": [
    "## Exercise: Compute average dog ratings\n",
    "The WeRateDogs account includes ratings out of 10 within some of its posts.\n",
    "Write a script that computes the average rating (out of 10) for the 100 most\n",
    "recent posts from this account. (note that not every post will have a rating)"
   ]
  },
  {
   "cell_type": "code",
   "execution_count": null,
   "metadata": {},
   "outputs": [],
   "source": [
    "def compute_avg_dog_rating(num_posts):\n",
    "    # TODO: complete\n",
    "    return 0.0\n",
    "\n",
    "print(\"The average rating is:\", compute_avg_dog_rating(100))"
   ]
  },
  {
   "cell_type": "markdown",
   "metadata": {},
   "source": [
    "## Exercise: Dog names\n",
    "Collect the names of dogs within the latest 100 posts and print them to the\n",
    "console. Hint: see if you can identify a pattern in the posts."
   ]
  },
  {
   "cell_type": "code",
   "execution_count": null,
   "metadata": {},
   "outputs": [],
   "source": [
    "def collect_dog_names(num_posts):\n",
    "    # TODO: complete\n",
    "    return []\n",
    "\n",
    "print(\"Here are the dog_names:\", collect_dog_names(100))"
   ]
  },
  {
   "cell_type": "markdown",
   "metadata": {},
   "source": [
    "## Exercise: Soliciting donations\n",
    "Some posts from the WeRateDogs account ask for donations -- usually for\n",
    "covering medical costs for the featured dogs. Within the latest 100 posts, print\n",
    "the text content of those that fall into this category"
   ]
  },
  {
   "cell_type": "code",
   "execution_count": null,
   "metadata": {},
   "outputs": [],
   "source": [
    "def donation_posts(num_posts):\n",
    "    # TODO: complete\n",
    "    return []\n",
    "\n",
    "for post_text in donation_posts(100):\n",
    "    print(post_text)"
   ]
  }
 ],
 "metadata": {
  "kernelspec": {
   "display_name": "venv",
   "language": "python",
   "name": "python3"
  },
  "language_info": {
   "codemirror_mode": {
    "name": "ipython",
    "version": 3
   },
   "file_extension": ".py",
   "mimetype": "text/x-python",
   "name": "python",
   "nbconvert_exporter": "python",
   "pygments_lexer": "ipython3",
   "version": "3.9.6"
  }
 },
 "nbformat": 4,
 "nbformat_minor": 2
}
