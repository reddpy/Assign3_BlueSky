{
 "cells": [
  {
   "cell_type": "markdown",
   "metadata": {},
   "source": [
    "# Practice with the Python ATProtoSDK\n",
    "This ipython notebook will walk you through the basics of working with the\n",
    "ATProto python sdk. The content here heavily draws on [these examples](https://github.com/MarshalX/atproto/tree/main/examples)"
   ]
  },
  {
   "cell_type": "code",
   "execution_count": 1,
   "metadata": {},
   "outputs": [],
   "source": [
    "from atproto import Client\n",
    "from dotenv import load_dotenv\n",
    "import os\n",
    "import pprint\n",
    "\n",
    "\n",
    "load_dotenv(override=True)\n",
    "USERNAME = os.getenv(\"USERNAME\")\n",
    "PW = os.getenv(\"PW\")"
   ]
  },
  {
   "cell_type": "markdown",
   "metadata": {},
   "source": [
    "## Logging into your account"
   ]
  },
  {
   "cell_type": "code",
   "execution_count": 2,
   "metadata": {},
   "outputs": [
    {
     "name": "stdout",
     "output_type": "stream",
     "text": [
      "{'associated': ProfileAssociated(chat=None, feedgens=0, labeler=False, lists=0, starter_packs=0, py_type='app.bsky.actor.defs#profileAssociated'),\n",
      " 'avatar': 'https://cdn.bsky.app/img/avatar/plain/did:plc:dwfue2abnp6p24dc5wt5dumu/bafkreig3hoboo44rqp6ku2y56xlhebtid5xddkmqjx23siobnqdi7tojeu@jpeg',\n",
      " 'banner': None,\n",
      " 'created_at': '2025-02-19T21:55:31.546Z',\n",
      " 'description': None,\n",
      " 'did': 'did:plc:dwfue2abnp6p24dc5wt5dumu',\n",
      " 'display_name': '',\n",
      " 'followers_count': 2,\n",
      " 'follows_count': 1,\n",
      " 'handle': 'kmh333.bsky.social',\n",
      " 'indexed_at': '2025-02-19T21:55:31.546Z',\n",
      " 'joined_via_starter_pack': None,\n",
      " 'labels': [],\n",
      " 'pinned_post': None,\n",
      " 'posts_count': 0,\n",
      " 'py_type': 'app.bsky.actor.defs#profileViewDetailed',\n",
      " 'verification': None,\n",
      " 'viewer': ViewerState(blocked_by=False, blocking=None, blocking_by_list=None, followed_by=None, following=None, known_followers=None, muted=False, muted_by_list=None, py_type='app.bsky.actor.defs#viewerState')}\n"
     ]
    }
   ],
   "source": [
    "client = Client()\n",
    "profile = client.login(USERNAME, PW)\n",
    "pprint.pprint(profile.__dict__)"
   ]
  },
  {
   "cell_type": "markdown",
   "metadata": {},
   "source": [
    "## Working with posts"
   ]
  },
  {
   "cell_type": "code",
   "execution_count": null,
   "metadata": {},
   "outputs": [],
   "source": [
    "def post_from_url(client: Client, url: str):\n",
    "    \"\"\"\n",
    "    Retrieve a Bluesky post from its URL\n",
    "    \"\"\"\n",
    "    parts = url.split(\"/\")\n",
    "    rkey = parts[-1]\n",
    "    handle = parts[-3]\n",
    "    return client.get_post(rkey, handle)\n",
    "\n",
    "post = post_from_url(client, \"https://bsky.app/profile/labeler-test.bsky.social/post/3lktj7ewxxv2q\")\n",
    "pprint.pprint(post.value.__dict__)"
   ]
  },
  {
   "cell_type": "code",
   "execution_count": null,
   "metadata": {},
   "outputs": [],
   "source": [
    "# https://github.com/MarshalX/atproto/blob/main/examples/profile_posts.py\n",
    "prof_feed = client.get_author_feed(actor=\"weratedogs.com\")\n",
    "for i, feed_view in enumerate(prof_feed.feed[:10]):\n",
    "    print(f\"Post {i}:\", feed_view.post.record.text)\n",
    "\n",
    "post = prof_feed.feed[0].post\n",
    "likes_resp = client.get_likes(post.uri, post.cid, limit=10)\n",
    "print(\"Likes:\", [like.actor.handle for like in likes_resp.likes])\n",
    "\n",
    "post_thread_resp = client.get_post_thread(post.uri)\n",
    "print([rep.post.record.text for rep in post_thread_resp.thread.replies[:10]])"
   ]
  },
  {
   "cell_type": "code",
   "execution_count": 70,
   "metadata": {},
   "outputs": [
    {
     "name": "stdout",
     "output_type": "stream",
     "text": [
      "gothiccmoms.bsky.social 3lnm7oq4bqs2x\n"
     ]
    }
   ],
   "source": [
    "u = \"https://bsky.app/profile/gothiccmoms.bsky.social/post/3lnm7oq4bqs2x\"\n",
    "u = u.split('/')\n",
    "author = u[-3]\n",
    "post_id = u[-1]\n",
    "\n",
    "\n",
    "print(author, post_id)"
   ]
  },
  {
   "cell_type": "code",
   "execution_count": 71,
   "metadata": {},
   "outputs": [],
   "source": [
    "post = client.app.bsky.feed.get_post_thread(\n",
    "    {'uri': f'at://{author}/app.bsky.feed.post/{post_id}'}\n",
    "    )\n"
   ]
  },
  {
   "cell_type": "code",
   "execution_count": 74,
   "metadata": {},
   "outputs": [
    {
     "data": {
      "text/plain": [
       "'https://video.bsky.app/watch/did%3Aplc%3Adoc4xcitwuwfkl4lb2fq4udp/bafkreicgex5ubffnhnbl3nbwneqefvqojl7nk6nl7xcykxouvik3wlbfmy/playlist.m3u8'"
      ]
     },
     "execution_count": 74,
     "metadata": {},
     "output_type": "execute_result"
    }
   ],
   "source": [
    "post.thread.post.embed.playlist"
   ]
  },
  {
   "cell_type": "code",
   "execution_count": null,
   "metadata": {},
   "outputs": [],
   "source": []
  }
 ],
 "metadata": {
  "kernelspec": {
   "display_name": ".venv",
   "language": "python",
   "name": "python3"
  },
  "language_info": {
   "codemirror_mode": {
    "name": "ipython",
    "version": 3
   },
   "file_extension": ".py",
   "mimetype": "text/x-python",
   "name": "python",
   "nbconvert_exporter": "python",
   "pygments_lexer": "ipython3",
   "version": "3.12.5"
  }
 },
 "nbformat": 4,
 "nbformat_minor": 2
}
