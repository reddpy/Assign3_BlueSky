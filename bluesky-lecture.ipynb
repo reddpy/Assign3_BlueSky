{
 "cells": [
  {
   "cell_type": "markdown",
   "metadata": {},
   "source": [
    "# Practice with the Python ATProtoSDK\n",
    "This ipython notebook will walk you through the basics of working with the\n",
    "ATProto python sdk. The content here heavily draws on [these examples](https://github.com/MarshalX/atproto/tree/main/examples)"
   ]
  },
  {
   "cell_type": "code",
   "execution_count": 4,
   "metadata": {},
   "outputs": [],
   "source": [
    "from atproto import Client\n",
    "from dotenv import load_dotenv\n",
    "import os\n",
    "import pprint\n",
    "\n",
    "\n",
    "load_dotenv(override=True)\n",
    "USERNAME = os.getenv(\"USERNAME\")\n",
    "PW = os.getenv(\"PW\")"
   ]
  },
  {
   "cell_type": "markdown",
   "metadata": {},
   "source": [
    "## Logging into your account"
   ]
  },
  {
   "cell_type": "code",
   "execution_count": 5,
   "metadata": {},
   "outputs": [
    {
     "name": "stdout",
     "output_type": "stream",
     "text": [
      "{'associated': ProfileAssociated(chat=None, feedgens=0, labeler=False, lists=0, starter_packs=0, py_type='app.bsky.actor.defs#profileAssociated'),\n",
      " 'avatar': 'https://cdn.bsky.app/img/avatar/plain/did:plc:dwfue2abnp6p24dc5wt5dumu/bafkreig3hoboo44rqp6ku2y56xlhebtid5xddkmqjx23siobnqdi7tojeu@jpeg',\n",
      " 'banner': None,\n",
      " 'created_at': '2025-02-19T21:55:31.546Z',\n",
      " 'description': None,\n",
      " 'did': 'did:plc:dwfue2abnp6p24dc5wt5dumu',\n",
      " 'display_name': '',\n",
      " 'followers_count': 2,\n",
      " 'follows_count': 1,\n",
      " 'handle': 'kmh333.bsky.social',\n",
      " 'indexed_at': '2025-02-19T21:55:31.546Z',\n",
      " 'joined_via_starter_pack': None,\n",
      " 'labels': [],\n",
      " 'pinned_post': None,\n",
      " 'posts_count': 0,\n",
      " 'py_type': 'app.bsky.actor.defs#profileViewDetailed',\n",
      " 'verification': None,\n",
      " 'viewer': ViewerState(blocked_by=False, blocking=None, blocking_by_list=None, followed_by=None, following=None, known_followers=None, muted=False, muted_by_list=None, py_type='app.bsky.actor.defs#viewerState')}\n"
     ]
    }
   ],
   "source": [
    "client = Client()\n",
    "profile = client.login(USERNAME, PW)\n",
    "pprint.pprint(profile.__dict__)"
   ]
  },
  {
   "cell_type": "markdown",
   "metadata": {},
   "source": [
    "## Working with posts"
   ]
  },
  {
   "cell_type": "code",
   "execution_count": 7,
   "metadata": {},
   "outputs": [
    {
     "name": "stdout",
     "output_type": "stream",
     "text": [
      "{'created_at': '2025-03-20T20:14:57.103160+00:00',\n",
      " 'embed': Main(images=[Image(alt='dog', image=BlobRef(mime_type='image/jpeg', size=169278, ref=IpldLink(link='bafkreibahplioamouecglrcqnshcxzdrwawdtwl5h676d2l7k7xbbti3pa'), py_type='blob'), aspect_ratio=None, py_type='app.bsky.embed.images#image')], py_type='app.bsky.embed.images'),\n",
      " 'entities': None,\n",
      " 'facets': None,\n",
      " 'labels': None,\n",
      " 'langs': ['en'],\n",
      " 'py_type': 'app.bsky.feed.post',\n",
      " 'reply': None,\n",
      " 'tags': None,\n",
      " 'text': 'check out this dog!'}\n"
     ]
    }
   ],
   "source": [
    "def post_from_url(client: Client, url: str):\n",
    "    \"\"\"\n",
    "    Retrieve a Bluesky post from its URL\n",
    "    \"\"\"\n",
    "    parts = url.split(\"/\")\n",
    "    rkey = parts[-1]\n",
    "    handle = parts[-3]\n",
    "    return client.get_post(rkey, handle)\n",
    "\n",
    "post = post_from_url(client, \"https://bsky.app/profile/labeler-test.bsky.social/post/3lktj7ewxxv2q\")\n",
    "pprint.pprint(post.value.__dict__)"
   ]
  },
  {
   "cell_type": "code",
   "execution_count": 6,
   "metadata": {},
   "outputs": [],
   "source": [
    "from PIL import Image\n",
    "import requests"
   ]
  },
  {
   "cell_type": "code",
   "execution_count": 54,
   "metadata": {},
   "outputs": [],
   "source": [
    "author = 'labeler-test.bsky.social'\n",
    "post_id = '3lktj7ewxxv2q'"
   ]
  },
  {
   "cell_type": "code",
   "execution_count": 7,
   "metadata": {},
   "outputs": [
    {
     "name": "stdout",
     "output_type": "stream",
     "text": [
      "labeler-test.bsky.social 3lktj7ewxxv2q\n"
     ]
    }
   ],
   "source": [
    " u = \"https://bsky.app/profile/labeler-test.bsky.social/post/3lktj7ewxxv2q\"\n",
    " u = u.split('/')\n",
    " author = u[-3]\n",
    " post_id = u[-1]\n",
    "\n",
    " print(author, post_id)"
   ]
  },
  {
   "cell_type": "code",
   "execution_count": 56,
   "metadata": {},
   "outputs": [],
   "source": [
    "post = client.app.bsky.feed.get_post_thread(\n",
    "                {\"uri\": f\"at://{author}/app.bsky.feed.post/{post_id}\"}\n",
    "            )"
   ]
  },
  {
   "cell_type": "code",
   "execution_count": 8,
   "metadata": {},
   "outputs": [],
   "source": [
    "post = client.app.bsky.feed.get_post_thread(\n",
    "    {'uri': f'at://{author}/app.bsky.feed.post/{post_id}'}\n",
    "    )"
   ]
  },
  {
   "cell_type": "code",
   "execution_count": 9,
   "metadata": {},
   "outputs": [
    {
     "data": {
      "text/plain": [
       "Response(thread=ThreadViewPost(post=PostView(author=ProfileViewBasic(did='did:plc:swmumnkmw5osopckigoal7ox', handle='labeler-test.bsky.social', associated=ProfileAssociated(chat=None, feedgens=None, labeler=True, lists=None, starter_packs=None, py_type='app.bsky.actor.defs#profileAssociated'), avatar='https://cdn.bsky.app/img/avatar/plain/did:plc:swmumnkmw5osopckigoal7ox/bafkreidxkwkojdn73meiwrstyvz3sd4yke2rqb2n2nbnb65z7v46pm6l6m@jpeg', created_at='2024-12-19T16:12:14.142Z', display_name='Labeler Test', labels=[], verification=None, viewer=ViewerState(blocked_by=False, blocking=None, blocking_by_list=None, followed_by=None, following=None, known_followers=None, muted=False, muted_by_list=None, py_type='app.bsky.actor.defs#viewerState'), py_type='app.bsky.actor.defs#profileViewBasic'), cid='bafyreihuyhooarqcpgpfq6wz65ma3csekufnhwwf4luc3c3zdmnpi5wluy', indexed_at='2025-03-20T20:14:58.952Z', record=Record(created_at='2025-03-20T20:14:57.103160+00:00', text='check out this dog!', embed=Main(images=[Image(alt='dog', image=BlobRef(mime_type='image/jpeg', size=169278, ref=IpldLink(link='bafkreibahplioamouecglrcqnshcxzdrwawdtwl5h676d2l7k7xbbti3pa'), py_type='blob'), aspect_ratio=None, py_type='app.bsky.embed.images#image')], py_type='app.bsky.embed.images'), entities=None, facets=None, labels=None, langs=['en'], reply=None, tags=None, py_type='app.bsky.feed.post'), uri='at://did:plc:swmumnkmw5osopckigoal7ox/app.bsky.feed.post/3lktj7ewxxv2q', embed=View(images=[ViewImage(alt='dog', fullsize='https://cdn.bsky.app/img/feed_fullsize/plain/did:plc:swmumnkmw5osopckigoal7ox/bafkreibahplioamouecglrcqnshcxzdrwawdtwl5h676d2l7k7xbbti3pa@jpeg', thumb='https://cdn.bsky.app/img/feed_thumbnail/plain/did:plc:swmumnkmw5osopckigoal7ox/bafkreibahplioamouecglrcqnshcxzdrwawdtwl5h676d2l7k7xbbti3pa@jpeg', aspect_ratio=None, py_type='app.bsky.embed.images#viewImage')], py_type='app.bsky.embed.images#view'), labels=[], like_count=0, quote_count=0, reply_count=0, repost_count=0, threadgate=None, viewer=ViewerState(embedding_disabled=False, like=None, pinned=None, reply_disabled=None, repost=None, thread_muted=False, py_type='app.bsky.feed.defs#viewerState'), py_type='app.bsky.feed.defs#postView'), parent=None, replies=[], thread_context=ThreadContext(root_author_like=None, py_type='app.bsky.feed.defs#threadContext'), py_type='app.bsky.feed.defs#threadViewPost'), threadgate=None)"
      ]
     },
     "execution_count": 9,
     "metadata": {},
     "output_type": "execute_result"
    }
   ],
   "source": [
    "post"
   ]
  },
  {
   "cell_type": "code",
   "execution_count": 12,
   "metadata": {},
   "outputs": [
    {
     "data": {
      "text/plain": [
       "'https://cdn.bsky.app/img/feed_fullsize/plain/did:plc:swmumnkmw5osopckigoal7ox/bafkreibahplioamouecglrcqnshcxzdrwawdtwl5h676d2l7k7xbbti3pa@jpeg'"
      ]
     },
     "execution_count": 12,
     "metadata": {},
     "output_type": "execute_result"
    }
   ],
   "source": [
    "post.thread.post.embed.images[0].fullsize"
   ]
  },
  {
   "cell_type": "code",
   "execution_count": null,
   "metadata": {},
   "outputs": [
    {
     "data": {
      "text/plain": [
       "Main(images=[Image(alt='dog', image=BlobRef(mime_type='image/jpeg', size=169278, ref=IpldLink(link='bafkreibahplioamouecglrcqnshcxzdrwawdtwl5h676d2l7k7xbbti3pa'), py_type='blob'), aspect_ratio=None, py_type='app.bsky.embed.images#image')], py_type='app.bsky.embed.images')"
      ]
     },
     "execution_count": 35,
     "metadata": {},
     "output_type": "execute_result"
    }
   ],
   "source": []
  },
  {
   "cell_type": "code",
   "execution_count": 53,
   "metadata": {},
   "outputs": [
    {
     "data": {
      "text/plain": [
       "[Image(alt='dog', image=BlobRef(mime_type='image/jpeg', size=169278, ref=IpldLink(link='bafkreibahplioamouecglrcqnshcxzdrwawdtwl5h676d2l7k7xbbti3pa'), py_type='blob'), aspect_ratio=None, py_type='app.bsky.embed.images#image')]"
      ]
     },
     "execution_count": 53,
     "metadata": {},
     "output_type": "execute_result"
    }
   ],
   "source": [
    "post.value.embed.images"
   ]
  },
  {
   "cell_type": "code",
   "execution_count": 24,
   "metadata": {},
   "outputs": [
    {
     "data": {
      "text/plain": [
       "'bafkreibahplioamouecglrcqnshcxzdrwawdtwl5h676d2l7k7xbbti3pa'"
      ]
     },
     "execution_count": 24,
     "metadata": {},
     "output_type": "execute_result"
    }
   ],
   "source": [
    "post.value.embed.images[0].image.ref.link"
   ]
  },
  {
   "cell_type": "code",
   "execution_count": 33,
   "metadata": {},
   "outputs": [],
   "source": [
    "response = requests.get(\"https://cdn.bsky.app/img/feed_thumbnail/plain/bafkreibahplioamouecglrcqnshcxzdrwawdtwl5h676d2l7k7xbbti3pa@jpeg\")"
   ]
  },
  {
   "cell_type": "code",
   "execution_count": 42,
   "metadata": {},
   "outputs": [],
   "source": [
    "url = \"https://cdn.bsky.social/imgproxy/iiqdnDFJZpeQkoW9VgeZ5qBtOGOQvZjZNuUzL5zRTlw/rs:fit:2000:2000:1:0/plain/bafkreibahplioamouecglrcqnshcxzdrwawdtwl5h676d2l7k7xbbti3pa@jpeg\""
   ]
  },
  {
   "cell_type": "code",
   "execution_count": 43,
   "metadata": {},
   "outputs": [
    {
     "ename": "BadRequestError",
     "evalue": "Response(success=False, status_code=400, content=XrpcError(error='InvalidRequest', message='Error: repo must be a valid did or a handle'), headers={'x-powered-by': 'Express', 'access-control-allow-origin': '*', 'content-type': 'application/json; charset=utf-8', 'content-length': '82', 'etag': 'W/\"52-t0vQuB6X6dohz7G9aPtPVpDx+20\"', 'vary': 'Accept-Encoding', 'date': 'Sat, 26 Apr 2025 15:56:49 GMT', 'keep-alive': 'timeout=90', 'strict-transport-security': 'max-age=63072000'})",
     "output_type": "error",
     "traceback": [
      "\u001b[31m---------------------------------------------------------------------------\u001b[39m",
      "\u001b[31mBadRequestError\u001b[39m                           Traceback (most recent call last)",
      "\u001b[36mCell\u001b[39m\u001b[36m \u001b[39m\u001b[32mIn[43]\u001b[39m\u001b[32m, line 1\u001b[39m\n\u001b[32m----> \u001b[39m\u001b[32m1\u001b[39m \u001b[43mpost_from_url\u001b[49m\u001b[43m(\u001b[49m\u001b[43mclient\u001b[49m\u001b[43m,\u001b[49m\u001b[43m \u001b[49m\u001b[43murl\u001b[49m\u001b[43m)\u001b[49m\n",
      "\u001b[36mCell\u001b[39m\u001b[36m \u001b[39m\u001b[32mIn[7]\u001b[39m\u001b[32m, line 8\u001b[39m, in \u001b[36mpost_from_url\u001b[39m\u001b[34m(client, url)\u001b[39m\n\u001b[32m      6\u001b[39m rkey = parts[-\u001b[32m1\u001b[39m]\n\u001b[32m      7\u001b[39m handle = parts[-\u001b[32m3\u001b[39m]\n\u001b[32m----> \u001b[39m\u001b[32m8\u001b[39m \u001b[38;5;28;01mreturn\u001b[39;00m \u001b[43mclient\u001b[49m\u001b[43m.\u001b[49m\u001b[43mget_post\u001b[49m\u001b[43m(\u001b[49m\u001b[43mrkey\u001b[49m\u001b[43m,\u001b[49m\u001b[43m \u001b[49m\u001b[43mhandle\u001b[49m\u001b[43m)\u001b[49m\n",
      "\u001b[36mFile \u001b[39m\u001b[32mc:\\Users\\harry\\Downloads\\tns\\Assign3_BlueSky\\.venv\\Lib\\site-packages\\atproto_client\\client\\client.py:366\u001b[39m, in \u001b[36mClient.get_post\u001b[39m\u001b[34m(self, post_rkey, profile_identify, cid)\u001b[39m\n\u001b[32m    363\u001b[39m \u001b[38;5;28;01mif\u001b[39;00m \u001b[38;5;129;01mnot\u001b[39;00m repo:\n\u001b[32m    364\u001b[39m     \u001b[38;5;28;01mraise\u001b[39;00m LoginRequiredError\n\u001b[32m--> \u001b[39m\u001b[32m366\u001b[39m \u001b[38;5;28;01mreturn\u001b[39;00m \u001b[38;5;28;43mself\u001b[39;49m\u001b[43m.\u001b[49m\u001b[43mapp\u001b[49m\u001b[43m.\u001b[49m\u001b[43mbsky\u001b[49m\u001b[43m.\u001b[49m\u001b[43mfeed\u001b[49m\u001b[43m.\u001b[49m\u001b[43mpost\u001b[49m\u001b[43m.\u001b[49m\u001b[43mget\u001b[49m\u001b[43m(\u001b[49m\u001b[43mrepo\u001b[49m\u001b[43m,\u001b[49m\u001b[43m \u001b[49m\u001b[43mpost_rkey\u001b[49m\u001b[43m,\u001b[49m\u001b[43m \u001b[49m\u001b[43mcid\u001b[49m\u001b[43m)\u001b[49m\n",
      "\u001b[36mFile \u001b[39m\u001b[32mc:\\Users\\harry\\Downloads\\tns\\Assign3_BlueSky\\.venv\\Lib\\site-packages\\atproto_client\\namespaces\\sync_ns.py:704\u001b[39m, in \u001b[36mAppBskyFeedPostRecord.get\u001b[39m\u001b[34m(self, repo, rkey, cid, **kwargs)\u001b[39m\n\u001b[32m    687\u001b[39m \u001b[38;5;250m\u001b[39m\u001b[33;03m\"\"\"Get a record.\u001b[39;00m\n\u001b[32m    688\u001b[39m \n\u001b[32m    689\u001b[39m \u001b[33;03mArgs:\u001b[39;00m\n\u001b[32m   (...)\u001b[39m\u001b[32m    699\u001b[39m \u001b[33;03m    :class:`atproto.exceptions.AtProtocolError`: Base exception.\u001b[39;00m\n\u001b[32m    700\u001b[39m \u001b[33;03m\"\"\"\u001b[39;00m\n\u001b[32m    701\u001b[39m params_model = models.ComAtprotoRepoGetRecord.Params(\n\u001b[32m    702\u001b[39m     collection=\u001b[33m'\u001b[39m\u001b[33mapp.bsky.feed.post\u001b[39m\u001b[33m'\u001b[39m, repo=repo, rkey=rkey, cid=cid\n\u001b[32m    703\u001b[39m )\n\u001b[32m--> \u001b[39m\u001b[32m704\u001b[39m response = \u001b[38;5;28;43mself\u001b[39;49m\u001b[43m.\u001b[49m\u001b[43m_client\u001b[49m\u001b[43m.\u001b[49m\u001b[43minvoke_query\u001b[49m\u001b[43m(\u001b[49m\n\u001b[32m    705\u001b[39m \u001b[43m    \u001b[49m\u001b[33;43m'\u001b[39;49m\u001b[33;43mcom.atproto.repo.getRecord\u001b[39;49m\u001b[33;43m'\u001b[39;49m\u001b[43m,\u001b[49m\u001b[43m \u001b[49m\u001b[43mparams\u001b[49m\u001b[43m=\u001b[49m\u001b[43mparams_model\u001b[49m\u001b[43m,\u001b[49m\u001b[43m \u001b[49m\u001b[43moutput_encoding\u001b[49m\u001b[43m=\u001b[49m\u001b[33;43m'\u001b[39;49m\u001b[33;43mapplication/json\u001b[39;49m\u001b[33;43m'\u001b[39;49m\u001b[43m,\u001b[49m\u001b[43m \u001b[49m\u001b[43m*\u001b[49m\u001b[43m*\u001b[49m\u001b[43mkwargs\u001b[49m\n\u001b[32m    706\u001b[39m \u001b[43m\u001b[49m\u001b[43m)\u001b[49m\n\u001b[32m    707\u001b[39m response_model = get_response_model(response, models.ComAtprotoRepoGetRecord.Response)\n\u001b[32m    708\u001b[39m \u001b[38;5;28;01mreturn\u001b[39;00m models.AppBskyFeedPost.GetRecordResponse(\n\u001b[32m    709\u001b[39m     uri=response_model.uri,\n\u001b[32m    710\u001b[39m     cid=response_model.cid,\n\u001b[32m    711\u001b[39m     value=t.cast(\u001b[33m'\u001b[39m\u001b[33mmodels.AppBskyFeedPost.Record\u001b[39m\u001b[33m'\u001b[39m, response_model.value),\n\u001b[32m    712\u001b[39m )\n",
      "\u001b[36mFile \u001b[39m\u001b[32mc:\\Users\\harry\\Downloads\\tns\\Assign3_BlueSky\\.venv\\Lib\\site-packages\\atproto_client\\client\\base.py:108\u001b[39m, in \u001b[36mClientBase.invoke_query\u001b[39m\u001b[34m(self, nsid, params, data, **kwargs)\u001b[39m\n\u001b[32m    101\u001b[39m \u001b[38;5;28;01mdef\u001b[39;00m\u001b[38;5;250m \u001b[39m\u001b[34minvoke_query\u001b[39m(\n\u001b[32m    102\u001b[39m     \u001b[38;5;28mself\u001b[39m,\n\u001b[32m    103\u001b[39m     nsid: \u001b[38;5;28mstr\u001b[39m,\n\u001b[32m   (...)\u001b[39m\u001b[32m    106\u001b[39m     **kwargs: t.Any,\n\u001b[32m    107\u001b[39m ) -> Response:\n\u001b[32m--> \u001b[39m\u001b[32m108\u001b[39m     \u001b[38;5;28;01mreturn\u001b[39;00m \u001b[38;5;28;43mself\u001b[39;49m\u001b[43m.\u001b[49m\u001b[43m_invoke\u001b[49m\u001b[43m(\u001b[49m\u001b[43mInvokeType\u001b[49m\u001b[43m.\u001b[49m\u001b[43mQUERY\u001b[49m\u001b[43m,\u001b[49m\u001b[43m \u001b[49m\u001b[43murl\u001b[49m\u001b[43m=\u001b[49m\u001b[38;5;28;43mself\u001b[39;49m\u001b[43m.\u001b[49m\u001b[43m_build_url\u001b[49m\u001b[43m(\u001b[49m\u001b[43mnsid\u001b[49m\u001b[43m)\u001b[49m\u001b[43m,\u001b[49m\u001b[43m \u001b[49m\u001b[43mparams\u001b[49m\u001b[43m=\u001b[49m\u001b[43mparams\u001b[49m\u001b[43m,\u001b[49m\u001b[43m \u001b[49m\u001b[43mdata\u001b[49m\u001b[43m=\u001b[49m\u001b[43mdata\u001b[49m\u001b[43m,\u001b[49m\u001b[43m \u001b[49m\u001b[43m*\u001b[49m\u001b[43m*\u001b[49m\u001b[43mkwargs\u001b[49m\u001b[43m)\u001b[49m\n",
      "\u001b[36mFile \u001b[39m\u001b[32mc:\\Users\\harry\\Downloads\\tns\\Assign3_BlueSky\\.venv\\Lib\\site-packages\\atproto_client\\client\\client.py:40\u001b[39m, in \u001b[36mClient._invoke\u001b[39m\u001b[34m(self, invoke_type, **kwargs)\u001b[39m\n\u001b[32m     37\u001b[39m     \u001b[38;5;28;01mif\u001b[39;00m \u001b[38;5;28mself\u001b[39m._session \u001b[38;5;129;01mand\u001b[39;00m \u001b[38;5;28mself\u001b[39m._session.access_jwt \u001b[38;5;129;01mand\u001b[39;00m \u001b[38;5;28mself\u001b[39m._should_refresh_session():\n\u001b[32m     38\u001b[39m         \u001b[38;5;28mself\u001b[39m._refresh_and_set_session()\n\u001b[32m---> \u001b[39m\u001b[32m40\u001b[39m \u001b[38;5;28;01mreturn\u001b[39;00m \u001b[38;5;28;43msuper\u001b[39;49m\u001b[43m(\u001b[49m\u001b[43m)\u001b[49m\u001b[43m.\u001b[49m\u001b[43m_invoke\u001b[49m\u001b[43m(\u001b[49m\u001b[43minvoke_type\u001b[49m\u001b[43m,\u001b[49m\u001b[43m \u001b[49m\u001b[43m*\u001b[49m\u001b[43m*\u001b[49m\u001b[43mkwargs\u001b[49m\u001b[43m)\u001b[49m\n",
      "\u001b[36mFile \u001b[39m\u001b[32mc:\\Users\\harry\\Downloads\\tns\\Assign3_BlueSky\\.venv\\Lib\\site-packages\\atproto_client\\client\\base.py:123\u001b[39m, in \u001b[36mClientBase._invoke\u001b[39m\u001b[34m(self, invoke_type, **kwargs)\u001b[39m\n\u001b[32m    120\u001b[39m _handle_kwagrs(kwargs)\n\u001b[32m    122\u001b[39m \u001b[38;5;28;01mif\u001b[39;00m invoke_type \u001b[38;5;129;01mis\u001b[39;00m InvokeType.QUERY:\n\u001b[32m--> \u001b[39m\u001b[32m123\u001b[39m     \u001b[38;5;28;01mreturn\u001b[39;00m \u001b[38;5;28;43mself\u001b[39;49m\u001b[43m.\u001b[49m\u001b[43mrequest\u001b[49m\u001b[43m.\u001b[49m\u001b[43mget\u001b[49m\u001b[43m(\u001b[49m\u001b[43m*\u001b[49m\u001b[43m*\u001b[49m\u001b[43mkwargs\u001b[49m\u001b[43m)\u001b[49m\n\u001b[32m    124\u001b[39m \u001b[38;5;28;01mreturn\u001b[39;00m \u001b[38;5;28mself\u001b[39m.request.post(**kwargs)\n",
      "\u001b[36mFile \u001b[39m\u001b[32mc:\\Users\\harry\\Downloads\\tns\\Assign3_BlueSky\\.venv\\Lib\\site-packages\\atproto_client\\request.py:213\u001b[39m, in \u001b[36mRequest.get\u001b[39m\u001b[34m(self, *args, **kwargs)\u001b[39m\n\u001b[32m    212\u001b[39m \u001b[38;5;28;01mdef\u001b[39;00m\u001b[38;5;250m \u001b[39m\u001b[34mget\u001b[39m(\u001b[38;5;28mself\u001b[39m, *args: t.Any, **kwargs: t.Any) -> Response:\n\u001b[32m--> \u001b[39m\u001b[32m213\u001b[39m     \u001b[38;5;28;01mreturn\u001b[39;00m _parse_response(\u001b[38;5;28;43mself\u001b[39;49m\u001b[43m.\u001b[49m\u001b[43m_send_request\u001b[49m\u001b[43m(\u001b[49m\u001b[33;43m'\u001b[39;49m\u001b[33;43mGET\u001b[39;49m\u001b[33;43m'\u001b[39;49m\u001b[43m,\u001b[49m\u001b[43m \u001b[49m\u001b[43m*\u001b[49m\u001b[43margs\u001b[49m\u001b[43m,\u001b[49m\u001b[43m \u001b[49m\u001b[43m*\u001b[49m\u001b[43m*\u001b[49m\u001b[43mkwargs\u001b[49m\u001b[43m)\u001b[49m)\n",
      "\u001b[36mFile \u001b[39m\u001b[32mc:\\Users\\harry\\Downloads\\tns\\Assign3_BlueSky\\.venv\\Lib\\site-packages\\atproto_client\\request.py:206\u001b[39m, in \u001b[36mRequest._send_request\u001b[39m\u001b[34m(self, method, url, **kwargs)\u001b[39m\n\u001b[32m    204\u001b[39m     \u001b[38;5;28;01mreturn\u001b[39;00m _handle_response(response)\n\u001b[32m    205\u001b[39m \u001b[38;5;28;01mexcept\u001b[39;00m \u001b[38;5;167;01mException\u001b[39;00m \u001b[38;5;28;01mas\u001b[39;00m e:\n\u001b[32m--> \u001b[39m\u001b[32m206\u001b[39m     \u001b[43m_handle_request_errors\u001b[49m\u001b[43m(\u001b[49m\u001b[43me\u001b[49m\u001b[43m)\u001b[49m\n\u001b[32m    207\u001b[39m     \u001b[38;5;28;01mraise\u001b[39;00m e\n",
      "\u001b[36mFile \u001b[39m\u001b[32mc:\\Users\\harry\\Downloads\\tns\\Assign3_BlueSky\\.venv\\Lib\\site-packages\\atproto_client\\request.py:81\u001b[39m, in \u001b[36m_handle_request_errors\u001b[39m\u001b[34m(exception)\u001b[39m\n\u001b[32m     79\u001b[39m \u001b[38;5;28;01mdef\u001b[39;00m\u001b[38;5;250m \u001b[39m\u001b[34m_handle_request_errors\u001b[39m(exception: \u001b[38;5;167;01mException\u001b[39;00m) -> \u001b[38;5;28;01mNone\u001b[39;00m:\n\u001b[32m     80\u001b[39m     \u001b[38;5;28;01mtry\u001b[39;00m:\n\u001b[32m---> \u001b[39m\u001b[32m81\u001b[39m         \u001b[38;5;28;01mraise\u001b[39;00m exception\n\u001b[32m     82\u001b[39m     \u001b[38;5;28;01mexcept\u001b[39;00m httpx.TimeoutException \u001b[38;5;28;01mas\u001b[39;00m e:\n\u001b[32m     83\u001b[39m         \u001b[38;5;28;01mraise\u001b[39;00m exceptions.InvokeTimeoutError \u001b[38;5;28;01mfrom\u001b[39;00m\u001b[38;5;250m \u001b[39m\u001b[34;01me\u001b[39;00m\n",
      "\u001b[36mFile \u001b[39m\u001b[32mc:\\Users\\harry\\Downloads\\tns\\Assign3_BlueSky\\.venv\\Lib\\site-packages\\atproto_client\\request.py:204\u001b[39m, in \u001b[36mRequest._send_request\u001b[39m\u001b[34m(self, method, url, **kwargs)\u001b[39m\n\u001b[32m    202\u001b[39m \u001b[38;5;28;01mtry\u001b[39;00m:\n\u001b[32m    203\u001b[39m     response = \u001b[38;5;28mself\u001b[39m._client.request(method=method, url=url, headers=headers, **kwargs)\n\u001b[32m--> \u001b[39m\u001b[32m204\u001b[39m     \u001b[38;5;28;01mreturn\u001b[39;00m \u001b[43m_handle_response\u001b[49m\u001b[43m(\u001b[49m\u001b[43mresponse\u001b[49m\u001b[43m)\u001b[49m\n\u001b[32m    205\u001b[39m \u001b[38;5;28;01mexcept\u001b[39;00m \u001b[38;5;167;01mException\u001b[39;00m \u001b[38;5;28;01mas\u001b[39;00m e:\n\u001b[32m    206\u001b[39m     _handle_request_errors(e)\n",
      "\u001b[36mFile \u001b[39m\u001b[32mc:\\Users\\harry\\Downloads\\tns\\Assign3_BlueSky\\.venv\\Lib\\site-packages\\atproto_client\\request.py:106\u001b[39m, in \u001b[36m_handle_response\u001b[39m\u001b[34m(response)\u001b[39m\n\u001b[32m    104\u001b[39m     \u001b[38;5;28;01mraise\u001b[39;00m exceptions.UnauthorizedError(error_response)\n\u001b[32m    105\u001b[39m \u001b[38;5;28;01mif\u001b[39;00m response.status_code == \u001b[32m400\u001b[39m:\n\u001b[32m--> \u001b[39m\u001b[32m106\u001b[39m     \u001b[38;5;28;01mraise\u001b[39;00m exceptions.BadRequestError(error_response)\n\u001b[32m    107\u001b[39m \u001b[38;5;28;01mif\u001b[39;00m response.status_code \u001b[38;5;129;01min\u001b[39;00m {\u001b[32m409\u001b[39m, \u001b[32m413\u001b[39m, \u001b[32m502\u001b[39m}:\n\u001b[32m    108\u001b[39m     \u001b[38;5;28;01mraise\u001b[39;00m exceptions.NetworkError(error_response)\n",
      "\u001b[31mBadRequestError\u001b[39m: Response(success=False, status_code=400, content=XrpcError(error='InvalidRequest', message='Error: repo must be a valid did or a handle'), headers={'x-powered-by': 'Express', 'access-control-allow-origin': '*', 'content-type': 'application/json; charset=utf-8', 'content-length': '82', 'etag': 'W/\"52-t0vQuB6X6dohz7G9aPtPVpDx+20\"', 'vary': 'Accept-Encoding', 'date': 'Sat, 26 Apr 2025 15:56:49 GMT', 'keep-alive': 'timeout=90', 'strict-transport-security': 'max-age=63072000'})"
     ]
    }
   ],
   "source": [
    "post_from_url(client, url)"
   ]
  },
  {
   "cell_type": "code",
   "execution_count": 34,
   "metadata": {},
   "outputs": [
    {
     "data": {
      "text/plain": [
       "<Response [404]>"
      ]
     },
     "execution_count": 34,
     "metadata": {},
     "output_type": "execute_result"
    }
   ],
   "source": [
    "response"
   ]
  },
  {
   "cell_type": "code",
   "execution_count": 19,
   "metadata": {},
   "outputs": [
    {
     "ename": "AttributeError",
     "evalue": "'Image' object has no attribute 'read'",
     "output_type": "error",
     "traceback": [
      "\u001b[31m---------------------------------------------------------------------------\u001b[39m",
      "\u001b[31mAttributeError\u001b[39m                            Traceback (most recent call last)",
      "\u001b[36mFile \u001b[39m\u001b[32mc:\\Users\\harry\\Downloads\\tns\\Assign3_BlueSky\\.venv\\Lib\\site-packages\\PIL\\Image.py:3511\u001b[39m, in \u001b[36mopen\u001b[39m\u001b[34m(fp, mode, formats)\u001b[39m\n\u001b[32m   3510\u001b[39m \u001b[38;5;28;01mtry\u001b[39;00m:\n\u001b[32m-> \u001b[39m\u001b[32m3511\u001b[39m     \u001b[43mfp\u001b[49m\u001b[43m.\u001b[49m\u001b[43mseek\u001b[49m(\u001b[32m0\u001b[39m)\n\u001b[32m   3512\u001b[39m \u001b[38;5;28;01mexcept\u001b[39;00m (\u001b[38;5;167;01mAttributeError\u001b[39;00m, io.UnsupportedOperation):\n",
      "\u001b[36mFile \u001b[39m\u001b[32mc:\\Users\\harry\\Downloads\\tns\\Assign3_BlueSky\\.venv\\Lib\\site-packages\\pydantic\\main.py:994\u001b[39m, in \u001b[36mBaseModel.__getattr__\u001b[39m\u001b[34m(self, item)\u001b[39m\n\u001b[32m    992\u001b[39m \u001b[38;5;28;01melse\u001b[39;00m:\n\u001b[32m    993\u001b[39m     \u001b[38;5;66;03m# this is the current error\u001b[39;00m\n\u001b[32m--> \u001b[39m\u001b[32m994\u001b[39m     \u001b[38;5;28;01mraise\u001b[39;00m \u001b[38;5;167;01mAttributeError\u001b[39;00m(\u001b[33mf\u001b[39m\u001b[33m'\u001b[39m\u001b[38;5;132;01m{\u001b[39;00m\u001b[38;5;28mtype\u001b[39m(\u001b[38;5;28mself\u001b[39m).\u001b[34m__name__\u001b[39m\u001b[38;5;132;01m!r}\u001b[39;00m\u001b[33m object has no attribute \u001b[39m\u001b[38;5;132;01m{\u001b[39;00mitem\u001b[38;5;132;01m!r}\u001b[39;00m\u001b[33m'\u001b[39m)\n",
      "\u001b[31mAttributeError\u001b[39m: 'Image' object has no attribute 'seek'",
      "\nDuring handling of the above exception, another exception occurred:\n",
      "\u001b[31mAttributeError\u001b[39m                            Traceback (most recent call last)",
      "\u001b[36mCell\u001b[39m\u001b[36m \u001b[39m\u001b[32mIn[19]\u001b[39m\u001b[32m, line 1\u001b[39m\n\u001b[32m----> \u001b[39m\u001b[32m1\u001b[39m \u001b[43mImage\u001b[49m\u001b[43m.\u001b[49m\u001b[43mopen\u001b[49m\u001b[43m(\u001b[49m\u001b[43mpost\u001b[49m\u001b[43m.\u001b[49m\u001b[43mvalue\u001b[49m\u001b[43m.\u001b[49m\u001b[43membed\u001b[49m\u001b[43m.\u001b[49m\u001b[43mimages\u001b[49m\u001b[43m[\u001b[49m\u001b[32;43m0\u001b[39;49m\u001b[43m]\u001b[49m\u001b[43m)\u001b[49m\n",
      "\u001b[36mFile \u001b[39m\u001b[32mc:\\Users\\harry\\Downloads\\tns\\Assign3_BlueSky\\.venv\\Lib\\site-packages\\PIL\\Image.py:3513\u001b[39m, in \u001b[36mopen\u001b[39m\u001b[34m(fp, mode, formats)\u001b[39m\n\u001b[32m   3511\u001b[39m     fp.seek(\u001b[32m0\u001b[39m)\n\u001b[32m   3512\u001b[39m \u001b[38;5;28;01mexcept\u001b[39;00m (\u001b[38;5;167;01mAttributeError\u001b[39;00m, io.UnsupportedOperation):\n\u001b[32m-> \u001b[39m\u001b[32m3513\u001b[39m     fp = io.BytesIO(\u001b[43mfp\u001b[49m\u001b[43m.\u001b[49m\u001b[43mread\u001b[49m())\n\u001b[32m   3514\u001b[39m     exclusive_fp = \u001b[38;5;28;01mTrue\u001b[39;00m\n\u001b[32m   3516\u001b[39m prefix = fp.read(\u001b[32m16\u001b[39m)\n",
      "\u001b[36mFile \u001b[39m\u001b[32mc:\\Users\\harry\\Downloads\\tns\\Assign3_BlueSky\\.venv\\Lib\\site-packages\\pydantic\\main.py:994\u001b[39m, in \u001b[36mBaseModel.__getattr__\u001b[39m\u001b[34m(self, item)\u001b[39m\n\u001b[32m    991\u001b[39m     \u001b[38;5;28;01mreturn\u001b[39;00m \u001b[38;5;28msuper\u001b[39m().\u001b[34m__getattribute__\u001b[39m(item)  \u001b[38;5;66;03m# Raises AttributeError if appropriate\u001b[39;00m\n\u001b[32m    992\u001b[39m \u001b[38;5;28;01melse\u001b[39;00m:\n\u001b[32m    993\u001b[39m     \u001b[38;5;66;03m# this is the current error\u001b[39;00m\n\u001b[32m--> \u001b[39m\u001b[32m994\u001b[39m     \u001b[38;5;28;01mraise\u001b[39;00m \u001b[38;5;167;01mAttributeError\u001b[39;00m(\u001b[33mf\u001b[39m\u001b[33m'\u001b[39m\u001b[38;5;132;01m{\u001b[39;00m\u001b[38;5;28mtype\u001b[39m(\u001b[38;5;28mself\u001b[39m).\u001b[34m__name__\u001b[39m\u001b[38;5;132;01m!r}\u001b[39;00m\u001b[33m object has no attribute \u001b[39m\u001b[38;5;132;01m{\u001b[39;00mitem\u001b[38;5;132;01m!r}\u001b[39;00m\u001b[33m'\u001b[39m)\n",
      "\u001b[31mAttributeError\u001b[39m: 'Image' object has no attribute 'read'"
     ]
    }
   ],
   "source": [
    "Image.open(post.value.embed.images[0])"
   ]
  },
  {
   "cell_type": "code",
   "execution_count": null,
   "metadata": {},
   "outputs": [],
   "source": [
    "# https://github.com/MarshalX/atproto/blob/main/examples/profile_posts.py\n",
    "prof_feed = client.get_author_feed(actor=\"weratedogs.com\")\n",
    "for i, feed_view in enumerate(prof_feed.feed[:10]):\n",
    "    print(f\"Post {i}:\", feed_view.post.record.text)\n",
    "\n",
    "post = prof_feed.feed[0].post\n",
    "likes_resp = client.get_likes(post.uri, post.cid, limit=10)\n",
    "print(\"Likes:\", [like.actor.handle for like in likes_resp.likes])\n",
    "\n",
    "post_thread_resp = client.get_post_thread(post.uri)\n",
    "print([rep.post.record.text for rep in post_thread_resp.thread.replies[:10]])"
   ]
  },
  {
   "cell_type": "markdown",
   "metadata": {},
   "source": [
    "## Followers/following"
   ]
  },
  {
   "cell_type": "markdown",
   "metadata": {},
   "source": [
    "How might you use this information to investigate/mitigate a harm?"
   ]
  },
  {
   "cell_type": "code",
   "execution_count": null,
   "metadata": {},
   "outputs": [],
   "source": [
    "\n",
    "follower_resp = client.get_followers(\"weratedogs.com\", limit=10)\n",
    "following_resp = client.get_follows(\"weratedogs.com\", limit=10)\n",
    "print(\"Followers:\", [follower.handle for follower in follower_resp.followers])\n",
    "print(\"Following:\", [follow.handle for follow in following_resp.follows])\n",
    "\n"
   ]
  },
  {
   "cell_type": "markdown",
   "metadata": {},
   "source": [
    "## Exercise: Compute average dog ratings\n",
    "The WeRateDogs account includes ratings out of 10 within some of its posts.\n",
    "Write a script that computes the average rating (out of 10) for the 100 most\n",
    "recent posts from this account. (note that not every post will have a rating)"
   ]
  },
  {
   "cell_type": "code",
   "execution_count": null,
   "metadata": {},
   "outputs": [],
   "source": [
    "def compute_avg_dog_rating(num_posts):\n",
    "    # TODO: complete\n",
    "    return 0.0\n",
    "\n",
    "print(\"The average rating is:\", compute_avg_dog_rating(100))"
   ]
  },
  {
   "cell_type": "markdown",
   "metadata": {},
   "source": [
    "## Exercise: Dog names\n",
    "Collect the names of dogs within the latest 100 posts and print them to the\n",
    "console. Hint: see if you can identify a pattern in the posts."
   ]
  },
  {
   "cell_type": "code",
   "execution_count": null,
   "metadata": {},
   "outputs": [],
   "source": [
    "def collect_dog_names(num_posts):\n",
    "    # TODO: complete\n",
    "    return []\n",
    "\n",
    "print(\"Here are the dog_names:\", collect_dog_names(100))"
   ]
  },
  {
   "cell_type": "markdown",
   "metadata": {},
   "source": [
    "## Exercise: Soliciting donations\n",
    "Some posts from the WeRateDogs account ask for donations -- usually for\n",
    "covering medical costs for the featured dogs. Within the latest 100 posts, print\n",
    "the text content of those that fall into this category"
   ]
  },
  {
   "cell_type": "code",
   "execution_count": null,
   "metadata": {},
   "outputs": [],
   "source": [
    "def donation_posts(num_posts):\n",
    "    # TODO: complete\n",
    "    return []\n",
    "\n",
    "for post_text in donation_posts(100):\n",
    "    print(post_text)"
   ]
  }
 ],
 "metadata": {
  "kernelspec": {
   "display_name": ".venv",
   "language": "python",
   "name": "python3"
  },
  "language_info": {
   "codemirror_mode": {
    "name": "ipython",
    "version": 3
   },
   "file_extension": ".py",
   "mimetype": "text/x-python",
   "name": "python",
   "nbconvert_exporter": "python",
   "pygments_lexer": "ipython3",
   "version": "3.12.5"
  }
 },
 "nbformat": 4,
 "nbformat_minor": 2
}
